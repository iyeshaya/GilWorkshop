{
 "cells": [
  {
   "cell_type": "code",
   "execution_count": 1,
   "id": "d79cfa58",
   "metadata": {},
   "outputs": [
    {
     "name": "stdout",
     "output_type": "stream",
     "text": [
      "Requirement already satisfied: multiprocess in /Library/Frameworks/Python.framework/Versions/3.9/lib/python3.9/site-packages (0.70.13)\n",
      "Requirement already satisfied: dill>=0.3.5.1 in /Library/Frameworks/Python.framework/Versions/3.9/lib/python3.9/site-packages (from multiprocess) (0.3.5.1)\n",
      "\u001b[33mWARNING: You are using pip version 22.0.4; however, version 22.1.2 is available.\n",
      "You should consider upgrading via the '/Library/Frameworks/Python.framework/Versions/3.9/bin/python3.9 -m pip install --upgrade pip' command.\u001b[0m\u001b[33m\n",
      "\u001b[0m"
     ]
    }
   ],
   "source": [
    "!pip install multiprocess"
   ]
  },
  {
   "cell_type": "markdown",
   "id": "399ec0ca",
   "metadata": {},
   "source": [
    "# Count"
   ]
  },
  {
   "cell_type": "code",
   "execution_count": 2,
   "id": "88ece31f",
   "metadata": {},
   "outputs": [],
   "source": [
    "COUNT = 80000000"
   ]
  },
  {
   "cell_type": "code",
   "execution_count": 3,
   "id": "95c9fbd2",
   "metadata": {},
   "outputs": [],
   "source": [
    "def countdown(n):\n",
    "    while n>0:\n",
    "        n -= 1"
   ]
  },
  {
   "cell_type": "markdown",
   "id": "6616034e",
   "metadata": {},
   "source": [
    "# Single Process/Thread "
   ]
  },
  {
   "cell_type": "code",
   "execution_count": 4,
   "id": "767e8057",
   "metadata": {},
   "outputs": [
    {
     "name": "stdout",
     "output_type": "stream",
     "text": [
      "CPU times: user 3.06 s, sys: 7.4 ms, total: 3.07 s\n",
      "Wall time: 3.08 s\n"
     ]
    }
   ],
   "source": [
    "%%time\n",
    "countdown(COUNT)"
   ]
  },
  {
   "cell_type": "markdown",
   "id": "099d7d85",
   "metadata": {},
   "source": [
    " # MultiProcess"
   ]
  },
  {
   "cell_type": "code",
   "execution_count": 5,
   "id": "36ab970d",
   "metadata": {},
   "outputs": [
    {
     "name": "stdout",
     "output_type": "stream",
     "text": [
      "CPU times: user 27.8 ms, sys: 35.4 ms, total: 63.3 ms\n",
      "Wall time: 1.89 s\n"
     ]
    }
   ],
   "source": [
    "%%time\n",
    "from multiprocess import Pool\n",
    "if __name__ == '__main__':\n",
    "    with Pool() as pool:\n",
    "        pool.map(countdown, [COUNT/2, COUNT/2])"
   ]
  },
  {
   "cell_type": "markdown",
   "id": "bd416c71",
   "metadata": {},
   "source": [
    "# MultiThread"
   ]
  },
  {
   "cell_type": "code",
   "execution_count": 14,
   "id": "35a959cf",
   "metadata": {},
   "outputs": [
    {
     "name": "stdout",
     "output_type": "stream",
     "text": [
      "CPU times: user 3.63 s, sys: 6.93 ms, total: 3.64 s\n",
      "Wall time: 3.64 s\n"
     ]
    }
   ],
   "source": [
    "%%time\n",
    "from concurrent.futures import ThreadPoolExecutor, wait\n",
    "\n",
    "with ThreadPoolExecutor() as executor:\n",
    "    executor.submit(countdown(COUNT/2))\n",
    "    executor.submit(countdown(COUNT/2))"
   ]
  },
  {
   "cell_type": "markdown",
   "id": "b8825c08",
   "metadata": {},
   "source": [
    "# References"
   ]
  },
  {
   "cell_type": "code",
   "execution_count": 15,
   "id": "82297cb5",
   "metadata": {},
   "outputs": [
    {
     "data": {
      "text/plain": [
       "3"
      ]
     },
     "execution_count": 15,
     "metadata": {},
     "output_type": "execute_result"
    }
   ],
   "source": [
    "import sys\n",
    "a = [] # Memory\n",
    "b = a\n",
    "sys.getrefcount(a) # c"
   ]
  },
  {
   "cell_type": "markdown",
   "id": "8ee56695",
   "metadata": {},
   "source": [
    "# I/O Bound"
   ]
  },
  {
   "cell_type": "code",
   "execution_count": 34,
   "id": "360a393e",
   "metadata": {},
   "outputs": [],
   "source": [
    "import requests\n",
    "import urllib3\n",
    "urllib3.disable_warnings(urllib3.exceptions.InsecureRequestWarning)\n",
    "def make_request(num):\n",
    "    requests.get(\"https://httpbin.org/ip\", verify=False)"
   ]
  },
  {
   "cell_type": "code",
   "execution_count": 35,
   "id": "bc827358",
   "metadata": {},
   "outputs": [
    {
     "name": "stdout",
     "output_type": "stream",
     "text": [
      "1\n",
      "2\n",
      "3\n",
      "4\n",
      "5\n",
      "6\n",
      "7\n",
      "8\n",
      "9\n",
      "10\n",
      "CPU times: user 162 ms, sys: 21.5 ms, total: 183 ms\n",
      "Wall time: 7.27 s\n"
     ]
    }
   ],
   "source": [
    "%%time\n",
    "with ThreadPoolExecutor() as executor:\n",
    "    for num in range(1, 11):\n",
    "        make_request(num)\n",
    "        print(num)\n"
   ]
  },
  {
   "cell_type": "code",
   "execution_count": 36,
   "id": "0ec5c246",
   "metadata": {},
   "outputs": [
    {
     "name": "stdout",
     "output_type": "stream",
     "text": [
      "CPU times: user 1.22 s, sys: 157 ms, total: 1.37 s\n",
      "Wall time: 5.57 s\n"
     ]
    }
   ],
   "source": [
    "%%time\n",
    "futures = []\n",
    "with ThreadPoolExecutor() as executor:\n",
    "    for num in range(1, 101):\n",
    "        futures.append(executor.submit(make_request, num))\n",
    "\n",
    "res = wait(futures)\n"
   ]
  },
  {
   "cell_type": "code",
   "execution_count": null,
   "id": "01966596",
   "metadata": {},
   "outputs": [],
   "source": []
  }
 ],
 "metadata": {
  "kernelspec": {
   "display_name": "Python 3 (ipykernel)",
   "language": "python",
   "name": "python3"
  },
  "language_info": {
   "codemirror_mode": {
    "name": "ipython",
    "version": 3
   },
   "file_extension": ".py",
   "mimetype": "text/x-python",
   "name": "python",
   "nbconvert_exporter": "python",
   "pygments_lexer": "ipython3",
   "version": "3.9.6"
  }
 },
 "nbformat": 4,
 "nbformat_minor": 5
}
